{
  "nbformat": 4,
  "nbformat_minor": 0,
  "metadata": {
    "colab": {
      "provenance": [],
      "authorship_tag": "ABX9TyMZGR8FyfE7IiluDXd1A8UZ",
      "include_colab_link": true
    },
    "kernelspec": {
      "name": "python3",
      "display_name": "Python 3"
    },
    "language_info": {
      "name": "python"
    }
  },
  "cells": [
    {
      "cell_type": "markdown",
      "metadata": {
        "id": "view-in-github",
        "colab_type": "text"
      },
      "source": [
        "<a href=\"https://colab.research.google.com/github/Sthefanyfonseca/Agrinho/blob/main/Cinema.ipynb\" target=\"_parent\"><img src=\"https://colab.research.google.com/assets/colab-badge.svg\" alt=\"Open In Colab\"/></a>"
      ]
    },
    {
      "cell_type": "code",
      "execution_count": 1,
      "metadata": {
        "colab": {
          "base_uri": "https://localhost:8080/"
        },
        "id": "RhGWoEsDVRt6",
        "outputId": "42583e88-5a66-4cbd-905c-7efdad3df27c"
      },
      "outputs": [
        {
          "output_type": "stream",
          "name": "stdout",
          "text": [
            "Digite o número de ingressos vendidos para a turma 1: 11\n",
            "Digite o número de ingressos vendidos para a turma 2: 28\n",
            "Digite o número de ingressos vendidos para a turma 3: 30\n",
            "Todos podem assistir o filme\n"
          ]
        }
      ],
      "source": [
        "# Definindo a capacidade do cinema\n",
        "capacidade_cinema = 80\n",
        "\n",
        "# Definindo a quantidade de ingressos para cada turma\n",
        "ingressos_turma1 = int(input(\"Digite o número de ingressos vendidos para a turma 1: \"))\n",
        "ingressos_turma2 = int(input(\"Digite o número de ingressos vendidos para a turma 2: \"))\n",
        "ingressos_turma3 = int(input(\"Digite o número de ingressos vendidos para a turma 3: \"))\n",
        "\n",
        "# Calculando a soma total de ingressos\n",
        "total_ingressos_vendidos = ingressos_turma1 + ingressos_turma2 + ingressos_turma3\n",
        "\n",
        "# Verificando se a quantidade total de ingressos vendidos é menor ou igual à capacidade\n",
        "if total_ingressos_vendidos <= capacidade_cinema:\n",
        "    print(\"Todos podem assistir o filme\")\n",
        "else:\n",
        "    print(\"Infelizmente não tem a quantidade de lugares o suficiente\")\n"
      ]
    }
  ]
}